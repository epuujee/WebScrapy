{
 "cells": [
  {
   "cell_type": "raw",
   "id": "9070c80a-7e2e-4441-ad6f-01ed7597cb99",
   "metadata": {},
   "source": [
    "Job posting on Gannon University\n",
    "https://gannon.peopleadmin.com/"
   ]
  },
  {
   "cell_type": "markdown",
   "id": "cd12d7b7-b51b-4cdf-90c8-f1c749967b97",
   "metadata": {},
   "source": [
    "Import the libraries that we use on this task."
   ]
  },
  {
   "cell_type": "code",
   "execution_count": 1,
   "id": "0930eb26-84ab-4912-a691-1f64cebb6501",
   "metadata": {
    "tags": []
   },
   "outputs": [],
   "source": [
    "import requests\n",
    "import urllib.request\n",
    "import time\n",
    "from bs4 import BeautifulSoup\n",
    "import datetime\n",
    "import pandas as pd"
   ]
  },
  {
   "cell_type": "markdown",
   "id": "ec47639b-0b19-4267-8905-b936e3fe5eb4",
   "metadata": {
    "tags": []
   },
   "source": [
    "First of all, We declare the variables."
   ]
  },
  {
   "cell_type": "code",
   "execution_count": 2,
   "id": "5255ee28-9fa4-4849-8399-fa814ba5a0f4",
   "metadata": {},
   "outputs": [],
   "source": [
    "domain = \"https://gannon.peopleadmin.com\"\n",
    "url = domain + \"/postings/search?page=\"\n",
    "page = 1\n",
    "job_links = []"
   ]
  },
  {
   "cell_type": "markdown",
   "id": "a97eff89-0482-46a6-a47d-67c886770c72",
   "metadata": {},
   "source": [
    "I use while loop for collect all link of job postings."
   ]
  },
  {
   "cell_type": "code",
   "execution_count": 3,
   "id": "14c0db0f-a866-4d89-b162-7ce521d65adf",
   "metadata": {},
   "outputs": [],
   "source": [
    "while page > 0:\n",
    "    response = requests.get(url+str(page))\n",
    "    page += 1\n",
    "    soup = BeautifulSoup(response.text, \"lxml\")\n",
    "    page_links = soup.find_all(attrs={\"class\":\"btn primary_button_color\"})\n",
    "    \n",
    "    if(len(page_links)==0):\n",
    "        break;\n",
    "\n",
    "    for link in page_links:\n",
    "        job_links.append(link.get('href'))        "
   ]
  },
  {
   "cell_type": "markdown",
   "id": "d09c07e6-c6cf-4df5-82ad-de11f4e14178",
   "metadata": {},
   "source": [
    "Let's see how many job post we have"
   ]
  },
  {
   "cell_type": "code",
   "execution_count": 4,
   "id": "74c7bc96-76c9-42be-b300-8cdd87da6a5b",
   "metadata": {},
   "outputs": [
    {
     "name": "stdout",
     "output_type": "stream",
     "text": [
      "162 job posts found.\n"
     ]
    }
   ],
   "source": [
    "print(str(len(job_links)) + \" job posts found.\")"
   ]
  },
  {
   "cell_type": "code",
   "execution_count": 70,
   "id": "b10218da-b5bd-4aa4-862a-94ac93d65b4a",
   "metadata": {},
   "outputs": [
    {
     "name": "stdout",
     "output_type": "stream",
     "text": [
      "https://gannon.peopleadmin.com/postings/6954\n",
      "https://gannon.peopleadmin.com/postings/6950\n",
      "https://gannon.peopleadmin.com/postings/6948\n",
      "https://gannon.peopleadmin.com/postings/6946\n",
      "https://gannon.peopleadmin.com/postings/6945\n",
      "https://gannon.peopleadmin.com/postings/6944\n",
      "https://gannon.peopleadmin.com/postings/6940\n",
      "https://gannon.peopleadmin.com/postings/6938\n",
      "https://gannon.peopleadmin.com/postings/6935\n",
      "https://gannon.peopleadmin.com/postings/6933\n",
      "https://gannon.peopleadmin.com/postings/6931\n",
      "https://gannon.peopleadmin.com/postings/6926\n",
      "https://gannon.peopleadmin.com/postings/6924\n",
      "https://gannon.peopleadmin.com/postings/6921\n",
      "https://gannon.peopleadmin.com/postings/6919\n",
      "https://gannon.peopleadmin.com/postings/6917\n",
      "https://gannon.peopleadmin.com/postings/6916\n",
      "https://gannon.peopleadmin.com/postings/6907\n",
      "https://gannon.peopleadmin.com/postings/6904\n",
      "https://gannon.peopleadmin.com/postings/6903\n",
      "https://gannon.peopleadmin.com/postings/6902\n",
      "https://gannon.peopleadmin.com/postings/6900\n",
      "https://gannon.peopleadmin.com/postings/6893\n",
      "https://gannon.peopleadmin.com/postings/6883\n",
      "https://gannon.peopleadmin.com/postings/6880\n",
      "https://gannon.peopleadmin.com/postings/6879\n",
      "https://gannon.peopleadmin.com/postings/6878\n",
      "https://gannon.peopleadmin.com/postings/6877\n",
      "https://gannon.peopleadmin.com/postings/6876\n",
      "https://gannon.peopleadmin.com/postings/6875\n",
      "https://gannon.peopleadmin.com/postings/6874\n",
      "https://gannon.peopleadmin.com/postings/6873\n",
      "https://gannon.peopleadmin.com/postings/6872\n",
      "https://gannon.peopleadmin.com/postings/6869\n",
      "https://gannon.peopleadmin.com/postings/6868\n",
      "https://gannon.peopleadmin.com/postings/6867\n",
      "https://gannon.peopleadmin.com/postings/6861\n",
      "https://gannon.peopleadmin.com/postings/6860\n",
      "https://gannon.peopleadmin.com/postings/6858\n",
      "https://gannon.peopleadmin.com/postings/6853\n",
      "https://gannon.peopleadmin.com/postings/6850\n",
      "https://gannon.peopleadmin.com/postings/6849\n",
      "https://gannon.peopleadmin.com/postings/6846\n",
      "https://gannon.peopleadmin.com/postings/6837\n",
      "https://gannon.peopleadmin.com/postings/6827\n",
      "https://gannon.peopleadmin.com/postings/6823\n",
      "https://gannon.peopleadmin.com/postings/6822\n",
      "https://gannon.peopleadmin.com/postings/6820\n",
      "https://gannon.peopleadmin.com/postings/6819\n",
      "https://gannon.peopleadmin.com/postings/6814\n",
      "https://gannon.peopleadmin.com/postings/6802\n",
      "https://gannon.peopleadmin.com/postings/6796\n",
      "https://gannon.peopleadmin.com/postings/6791\n",
      "https://gannon.peopleadmin.com/postings/6790\n",
      "https://gannon.peopleadmin.com/postings/6787\n",
      "https://gannon.peopleadmin.com/postings/6783\n",
      "https://gannon.peopleadmin.com/postings/6782\n",
      "https://gannon.peopleadmin.com/postings/6770\n",
      "https://gannon.peopleadmin.com/postings/6769\n",
      "https://gannon.peopleadmin.com/postings/6761\n",
      "https://gannon.peopleadmin.com/postings/6749\n",
      "https://gannon.peopleadmin.com/postings/6748\n",
      "https://gannon.peopleadmin.com/postings/6747\n",
      "https://gannon.peopleadmin.com/postings/6746\n",
      "https://gannon.peopleadmin.com/postings/6744\n",
      "https://gannon.peopleadmin.com/postings/6735\n",
      "https://gannon.peopleadmin.com/postings/6724\n",
      "https://gannon.peopleadmin.com/postings/6723\n",
      "https://gannon.peopleadmin.com/postings/6722\n",
      "https://gannon.peopleadmin.com/postings/6720\n",
      "https://gannon.peopleadmin.com/postings/6719\n",
      "https://gannon.peopleadmin.com/postings/6717\n",
      "https://gannon.peopleadmin.com/postings/6709\n",
      "https://gannon.peopleadmin.com/postings/6707\n",
      "https://gannon.peopleadmin.com/postings/6696\n",
      "https://gannon.peopleadmin.com/postings/6694\n",
      "https://gannon.peopleadmin.com/postings/6692\n",
      "https://gannon.peopleadmin.com/postings/6691\n",
      "https://gannon.peopleadmin.com/postings/6686\n",
      "https://gannon.peopleadmin.com/postings/6662\n",
      "https://gannon.peopleadmin.com/postings/6655\n",
      "https://gannon.peopleadmin.com/postings/6653\n",
      "https://gannon.peopleadmin.com/postings/6635\n",
      "https://gannon.peopleadmin.com/postings/6604\n",
      "https://gannon.peopleadmin.com/postings/6573\n",
      "https://gannon.peopleadmin.com/postings/6570\n",
      "https://gannon.peopleadmin.com/postings/6556\n",
      "https://gannon.peopleadmin.com/postings/6554\n",
      "https://gannon.peopleadmin.com/postings/6550\n",
      "https://gannon.peopleadmin.com/postings/6536\n",
      "https://gannon.peopleadmin.com/postings/6523\n",
      "https://gannon.peopleadmin.com/postings/6522\n",
      "https://gannon.peopleadmin.com/postings/6515\n",
      "https://gannon.peopleadmin.com/postings/6508\n",
      "https://gannon.peopleadmin.com/postings/6505\n",
      "https://gannon.peopleadmin.com/postings/6504\n",
      "https://gannon.peopleadmin.com/postings/6501\n",
      "https://gannon.peopleadmin.com/postings/6500\n",
      "https://gannon.peopleadmin.com/postings/6499\n",
      "https://gannon.peopleadmin.com/postings/6497\n",
      "https://gannon.peopleadmin.com/postings/6496\n",
      "https://gannon.peopleadmin.com/postings/6495\n",
      "https://gannon.peopleadmin.com/postings/6493\n",
      "https://gannon.peopleadmin.com/postings/6492\n",
      "https://gannon.peopleadmin.com/postings/6491\n",
      "https://gannon.peopleadmin.com/postings/6489\n",
      "https://gannon.peopleadmin.com/postings/6468\n",
      "https://gannon.peopleadmin.com/postings/6467\n",
      "https://gannon.peopleadmin.com/postings/6466\n",
      "https://gannon.peopleadmin.com/postings/6465\n",
      "https://gannon.peopleadmin.com/postings/6463\n",
      "https://gannon.peopleadmin.com/postings/6449\n",
      "https://gannon.peopleadmin.com/postings/6436\n",
      "https://gannon.peopleadmin.com/postings/6423\n",
      "https://gannon.peopleadmin.com/postings/6419\n",
      "https://gannon.peopleadmin.com/postings/6406\n",
      "https://gannon.peopleadmin.com/postings/6405\n",
      "https://gannon.peopleadmin.com/postings/6403\n",
      "https://gannon.peopleadmin.com/postings/6402\n",
      "https://gannon.peopleadmin.com/postings/6401\n",
      "https://gannon.peopleadmin.com/postings/6400\n",
      "https://gannon.peopleadmin.com/postings/6395\n",
      "https://gannon.peopleadmin.com/postings/6359\n",
      "https://gannon.peopleadmin.com/postings/6355\n",
      "https://gannon.peopleadmin.com/postings/6334\n",
      "https://gannon.peopleadmin.com/postings/6333\n",
      "https://gannon.peopleadmin.com/postings/6332\n",
      "https://gannon.peopleadmin.com/postings/6323\n",
      "https://gannon.peopleadmin.com/postings/6322\n",
      "https://gannon.peopleadmin.com/postings/6319\n",
      "https://gannon.peopleadmin.com/postings/6312\n",
      "https://gannon.peopleadmin.com/postings/6281\n",
      "https://gannon.peopleadmin.com/postings/6278\n",
      "https://gannon.peopleadmin.com/postings/6272\n",
      "https://gannon.peopleadmin.com/postings/6270\n",
      "https://gannon.peopleadmin.com/postings/6269\n",
      "https://gannon.peopleadmin.com/postings/6241\n",
      "https://gannon.peopleadmin.com/postings/6210\n",
      "https://gannon.peopleadmin.com/postings/6187\n",
      "https://gannon.peopleadmin.com/postings/6170\n",
      "https://gannon.peopleadmin.com/postings/6155\n",
      "https://gannon.peopleadmin.com/postings/6154\n",
      "https://gannon.peopleadmin.com/postings/6151\n",
      "https://gannon.peopleadmin.com/postings/6125\n",
      "https://gannon.peopleadmin.com/postings/6098\n",
      "https://gannon.peopleadmin.com/postings/6047\n",
      "https://gannon.peopleadmin.com/postings/5993\n",
      "https://gannon.peopleadmin.com/postings/5982\n",
      "https://gannon.peopleadmin.com/postings/5915\n",
      "https://gannon.peopleadmin.com/postings/5887\n",
      "https://gannon.peopleadmin.com/postings/5764\n",
      "https://gannon.peopleadmin.com/postings/5744\n",
      "https://gannon.peopleadmin.com/postings/5696\n",
      "https://gannon.peopleadmin.com/postings/5665\n",
      "https://gannon.peopleadmin.com/postings/5644\n",
      "https://gannon.peopleadmin.com/postings/5626\n",
      "https://gannon.peopleadmin.com/postings/5575\n",
      "https://gannon.peopleadmin.com/postings/5566\n",
      "https://gannon.peopleadmin.com/postings/5349\n",
      "https://gannon.peopleadmin.com/postings/4114\n",
      "https://gannon.peopleadmin.com/postings/4083\n",
      "https://gannon.peopleadmin.com/postings/4082\n",
      "https://gannon.peopleadmin.com/postings/4079\n"
     ]
    }
   ],
   "source": [
    "for link in job_links:\n",
    "    print(domain + link)"
   ]
  },
  {
   "cell_type": "code",
   "execution_count": 6,
   "id": "c696d177-4a7b-4d0d-b532-a9524bacd702",
   "metadata": {},
   "outputs": [
    {
     "name": "stdout",
     "output_type": "stream",
     "text": [
      "/postings/6946\n"
     ]
    }
   ],
   "source": [
    "print(job_links[5])"
   ]
  },
  {
   "cell_type": "code",
   "execution_count": null,
   "id": "e0f01389-1264-4b26-a408-f6d85a242be7",
   "metadata": {},
   "outputs": [],
   "source": []
  },
  {
   "cell_type": "code",
   "execution_count": null,
   "id": "d48633bc-0f6f-437d-bdc0-f2c717c25f15",
   "metadata": {},
   "outputs": [],
   "source": []
  },
  {
   "cell_type": "code",
   "execution_count": null,
   "id": "03daa52a-d3ab-4626-850f-4e7bf76b05e0",
   "metadata": {},
   "outputs": [],
   "source": []
  },
  {
   "cell_type": "code",
   "execution_count": null,
   "id": "0f03d47f-6afd-4aa7-a321-5ae78bdd1de1",
   "metadata": {},
   "outputs": [],
   "source": []
  }
 ],
 "metadata": {
  "kernelspec": {
   "display_name": "Python 3",
   "language": "python",
   "name": "python3"
  },
  "language_info": {
   "codemirror_mode": {
    "name": "ipython",
    "version": 3
   },
   "file_extension": ".py",
   "mimetype": "text/x-python",
   "name": "python",
   "nbconvert_exporter": "python",
   "pygments_lexer": "ipython3",
   "version": "3.8.8"
  }
 },
 "nbformat": 4,
 "nbformat_minor": 5
}
